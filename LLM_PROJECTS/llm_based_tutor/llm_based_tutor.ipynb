{
 "cells": [
  {
   "cell_type": "markdown",
   "id": "fe12c203-e6a6-452c-a655-afb8a03a4ff5",
   "metadata": {},
   "source": [
    "# End of week 1 exercise\n",
    "\n",
    "To demonstrate your familiarity with OpenAI API, and also Ollama, build a tool that takes a technical question,  \n",
    "and responds with an explanation. This is a tool that you will be able to use yourself during the course!"
   ]
  },
  {
   "cell_type": "code",
   "execution_count": 1,
   "id": "c1070317-3ed9-4659-abe3-828943230e03",
   "metadata": {},
   "outputs": [],
   "source": [
    "# imports\n",
    "\n",
    "import os\n",
    "import requests\n",
    "import json\n",
    "from typing import List\n",
    "from dotenv import load_dotenv\n",
    "from bs4 import BeautifulSoup\n",
    "from IPython.display import Markdown, display, update_display\n",
    "from openai import OpenAI"
   ]
  },
  {
   "cell_type": "code",
   "execution_count": 2,
   "id": "4a456906-915a-4bfd-bb9d-57e505c5093f",
   "metadata": {},
   "outputs": [],
   "source": [
    "# constants\n",
    "\n",
    "MODEL_GPT = 'gpt-4o-mini'\n",
    "MODEL_LLAMA = 'llama3.2'"
   ]
  },
  {
   "cell_type": "code",
   "execution_count": 3,
   "id": "a8d7923c-5f28-4c30-8556-342d7c8497c1",
   "metadata": {},
   "outputs": [
    {
     "name": "stdout",
     "output_type": "stream",
     "text": [
      "API key looks good so far\n"
     ]
    }
   ],
   "source": [
    "# set up environment\n",
    "load_dotenv(override=True)\n",
    "api_key = os.getenv('OPENAI_API_KEY')\n",
    "\n",
    "if api_key and api_key.startswith('sk-proj-') and len(api_key)>10:\n",
    "    print(\"API key looks good so far\")\n",
    "else:\n",
    "    print(\"There might be a problem with your API key? Please visit the troubleshooting notebook!\")\n",
    "    \n",
    "MODEL = 'gpt-4o-mini'\n",
    "openai = OpenAI()"
   ]
  },
  {
   "cell_type": "code",
   "execution_count": 15,
   "id": "3f0d0137-52b0-47a8-81a8-11a90a010798",
   "metadata": {},
   "outputs": [
    {
     "name": "stdin",
     "output_type": "stream",
     "text": [
      " explain what is dodo\n"
     ]
    }
   ],
   "source": [
    "# here is the question; type over this to ask something new\n",
    "\n",
    "question = input()"
   ]
  },
  {
   "cell_type": "code",
   "execution_count": 16,
   "id": "60ce7000-a4a5-4cce-a261-e75ef45063b4",
   "metadata": {},
   "outputs": [],
   "source": [
    "# Get gpt-4o-mini to answer, with streaming\n",
    "system_prompt=\"You are provided with a question which may be relevant to anything may be it can be code debugging, code explanation, mathematics, science or anything.\\\n",
    "relevant to your knowledge . You should able to analyze the question carefully and respond with a proper and clear answer for that question with justification.\\\n",
    "you should respond in a clearn crisp tone which makes the people to understand your answer and explanation.\""
   ]
  },
  {
   "cell_type": "code",
   "execution_count": 17,
   "id": "c4504932-bd7b-4d0e-90d0-e16f5e2ebc75",
   "metadata": {},
   "outputs": [],
   "source": [
    "#user_prompt generator\n",
    "def user_prompt(question):\n",
    "    user_prompt = \"Here is a learner’s question that requires your explanation:\\n\"\n",
    "    user_prompt += f\"Question: {question}\\n\"\n",
    "    user_prompt += \"Please provide a clear and well-structured explanation with justification.\\n\"\n",
    "    user_prompt += \"Make your answer concise, easy to understand, and directly relevant to the question.\"\n",
    "    return user_prompt\n",
    "    "
   ]
  },
  {
   "cell_type": "code",
   "execution_count": 18,
   "id": "7bc6c099-09c2-4f80-8511-9ce7edea5ac6",
   "metadata": {},
   "outputs": [
    {
     "name": "stdout",
     "output_type": "stream",
     "text": [
      "Here is a learner’s question that requires your explanation:\n",
      "Question: explain what is dodo\n",
      "Please provide a clear and well-structured explanation with justification.\n",
      "Make your answer concise, easy to understand, and directly relevant to the question.\n"
     ]
    }
   ],
   "source": [
    "print(user_prompt(question))"
   ]
  },
  {
   "cell_type": "code",
   "execution_count": 19,
   "id": "99e85838-5640-4e4d-ae1e-182d907408f7",
   "metadata": {},
   "outputs": [],
   "source": [
    "def messages_for(question):\n",
    "    return [\n",
    "        {\"role\": \"system\", \"content\": system_prompt},\n",
    "        {\"role\": \"user\", \"content\": user_prompt(question)}\n",
    "    ]"
   ]
  },
  {
   "cell_type": "code",
   "execution_count": 20,
   "id": "0d09eca0-118a-4792-845c-b522323587c7",
   "metadata": {
    "scrolled": true
   },
   "outputs": [
    {
     "name": "stdout",
     "output_type": "stream",
     "text": [
      "[{'role': 'system', 'content': 'You are provided with a question which may be relevant to anything may be it can be code debugging, code explanation, mathematics, science or anything.relevant to your knowledge . You should able to analyze the question carefully and respond with a proper and clear answer for that question with justification.you should respond in a clearn crisp tone which makes the people to understand your answer and explanation.'}, {'role': 'user', 'content': 'Here is a learner’s question that requires your explanation:\\nQuestion: explain what is dodo\\nPlease provide a clear and well-structured explanation with justification.\\nMake your answer concise, easy to understand, and directly relevant to the question.'}]\n"
     ]
    }
   ],
   "source": [
    "print(messages_for(question))"
   ]
  },
  {
   "cell_type": "code",
   "execution_count": 21,
   "id": "31d209c6-76ca-4f33-87b3-2dc9a0806471",
   "metadata": {},
   "outputs": [],
   "source": [
    "#openai answering the question\n",
    "def tutor_llm(question):\n",
    "    stream=openai.chat.completions.create(\n",
    "        model=MODEL,\n",
    "        messages=messages_for(question),\n",
    "        stream=True\n",
    "    )\n",
    "    \n",
    "    response = \"\"\n",
    "    display_handle = display(Markdown(\"\"), display_id=True)\n",
    "    for chunk in stream:\n",
    "        response += chunk.choices[0].delta.content or ''\n",
    "        response = response.replace(\"```\",\"\").replace(\"markdown\", \"\")\n",
    "        update_display(Markdown(response), display_id=display_handle.display_id)"
   ]
  },
  {
   "cell_type": "code",
   "execution_count": 22,
   "id": "06f5f636-2813-4659-9175-0301ca564cfc",
   "metadata": {},
   "outputs": [
    {
     "data": {
      "text/markdown": [
       "The dodo, scientifically known as *Raphus cucullatus*, was a flightless bird that lived on the island of Mauritius in the Indian Ocean. It is often referenced as a symbol of extinction due to human activity.\n",
       "\n",
       "**Key Characteristics:**\n",
       "\n",
       "1. **Physical Appearance:** The dodo had a large, stout body, a tuft of curly feathers on its rear, a large hooked beak, and relatively small, stubby wings. It stood about 1 meter (3.3 feet) tall and weighed approximately 10-18 kilograms (22-39 pounds).\n",
       "\n",
       "2. **Habitat:** Native to Mauritius, the dodo thrived in the island's forests, where it nested on the ground.\n",
       "\n",
       "3. **Diet:** It was an omnivore, primarily feeding on fruits, seeds, nuts, and possibly small land vertebrates and marine animals.\n",
       "\n",
       "**Extinction:** The dodo became extinct in the late 17th century, largely due to human activities such as hunting and the introduction of invasive species (like rats, pigs, and monkeys) that preyed on dodo eggs and competed for food sources. The last widely accepted sighting was in 1662, making it one of the first recorded instances of extinction caused by humans.\n",
       "\n",
       "**Cultural Impact:** The dodo has become a cultural icon representing the loss of biodiversity and the consequences of human impact on nature. Phrases like \"dead as a dodo\" emphasize its extinction and signify outdated or obsolete concepts.\n",
       "\n",
       "In summary, the dodo was a unique bird whose extinction highlights the importance of conservation efforts for vulnerable species today. Its story serves as a cautionary tale about the fragility of ecosystems."
      ],
      "text/plain": [
       "<IPython.core.display.Markdown object>"
      ]
     },
     "metadata": {},
     "output_type": "display_data"
    }
   ],
   "source": [
    "tutor_llm(question)"
   ]
  },
  {
   "cell_type": "code",
   "execution_count": null,
   "id": "8f7c8ea8-4082-4ad0-8751-3301adcf6538",
   "metadata": {},
   "outputs": [],
   "source": []
  }
 ],
 "metadata": {
  "kernelspec": {
   "display_name": "Python 3 (ipykernel)",
   "language": "python",
   "name": "python3"
  },
  "language_info": {
   "codemirror_mode": {
    "name": "ipython",
    "version": 3
   },
   "file_extension": ".py",
   "mimetype": "text/x-python",
   "name": "python",
   "nbconvert_exporter": "python",
   "pygments_lexer": "ipython3",
   "version": "3.11.13"
  }
 },
 "nbformat": 4,
 "nbformat_minor": 5
}
